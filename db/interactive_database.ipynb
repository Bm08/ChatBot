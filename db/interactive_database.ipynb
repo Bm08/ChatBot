{
 "cells": [
  {
   "cell_type": "code",
   "execution_count": 1,
   "metadata": {},
   "outputs": [],
   "source": [
    "import sqlite3\n"
   ]
  },
  {
   "cell_type": "code",
   "execution_count": 19,
   "metadata": {},
   "outputs": [],
   "source": [
    "def convertToBinaryData(filename):\n",
    "    with open(filename, 'rb') as file:\n",
    "        blobData = file.read()\n",
    "    return blobData"
   ]
  },
  {
   "cell_type": "code",
   "execution_count": 20,
   "metadata": {},
   "outputs": [
    {
     "output_type": "stream",
     "name": "stdout",
     "text": [
      "Connected to SQLite\n",
      " file inserted successfully as a BLOB into a table\n",
      "the sqlite connection is closed\n",
      "Connected to SQLite\n",
      " file inserted successfully as a BLOB into a table\n",
      "the sqlite connection is closed\n",
      "Connected to SQLite\n",
      " file inserted successfully as a BLOB into a table\n",
      "the sqlite connection is closed\n",
      "Connected to SQLite\n",
      " file inserted successfully as a BLOB into a table\n",
      "the sqlite connection is closed\n",
      "Connected to SQLite\n",
      " file inserted successfully as a BLOB into a table\n",
      "the sqlite connection is closed\n"
     ]
    }
   ],
   "source": [
    "def insertBLOB(fname, documentFile):\n",
    "    try:\n",
    "        sqliteConnection = sqlite3.connect('chatbotDB.db')\n",
    "        cursor = sqliteConnection.cursor()\n",
    "        print(\"Connected to SQLite\")\n",
    "        sqlite_insert_blob_query = \"\"\" INSERT INTO files\n",
    "                                  (filename, File) VALUES (?, ?)\"\"\"\n",
    "\n",
    "        document = convertToBinaryData(documentFile)\n",
    "        # Convert data into tuple format\n",
    "        data_tuple = (fname, document)\n",
    "        cursor.execute(sqlite_insert_blob_query, data_tuple)\n",
    "        sqliteConnection.commit()\n",
    "        print(\" file inserted successfully as a BLOB into a table\")\n",
    "        cursor.close()\n",
    "\n",
    "    except sqlite3.Error as error:\n",
    "        print(\"Failed to insert blob data into sqlite table\", error)\n",
    "    finally:\n",
    "        if sqliteConnection:\n",
    "            sqliteConnection.close()\n",
    "            print(\"the sqlite connection is closed\")\n",
    "\n",
    "insertBLOB(\"Python\", \"C:\\\\Users\\\\lenovo\\\\chatbot\\\\documents\\\\python-interview.txt\")\n",
    "\n",
    "insertBLOB(\"mysql\", \"C:\\\\Users\\\\lenovo\\\\chatbot\\\\documents\\\\mysql.txt\")\n",
    "\n",
    "insertBLOB(\"AI\", \"C:\\\\Users\\\\lenovo\\\\chatbot\\\\documents\\\\artificial-intellegence.txt\")\n",
    "\n",
    "insertBLOB(\"R\", \"C:\\\\Users\\\\lenovo\\\\chatbot\\\\documents\\\\r-interview.txt\")\n",
    "\n",
    "insertBLOB(\"tableau\", \"C:\\\\Users\\\\lenovo\\\\chatbot\\\\documents\\\\tableau.txt\")"
   ]
  },
  {
   "cell_type": "code",
   "execution_count": 21,
   "metadata": {},
   "outputs": [],
   "source": [
    "def writeTofile(data, filename):\n",
    "    # Convert binary data to proper format and write it on Hard Disk\n",
    "    with open(filename, 'wb') as file:\n",
    "        file.write(data)\n",
    "    print(\"Stored blob data into: \", filename, \"\\n\")"
   ]
  },
  {
   "cell_type": "code",
   "execution_count": 22,
   "metadata": {},
   "outputs": [
    {
     "output_type": "stream",
     "name": "stdout",
     "text": [
      "Connected to SQLite\nfilename =  Python\nStoring document on disk \n\nStored blob data into:  C:\\Users\\lenovo\\chatbot\\sqlitedocuments\\Python_document.txt \n\nsqlite connection is closed\nConnected to SQLite\nfilename =  mysql\nStoring document on disk \n\nStored blob data into:  C:\\Users\\lenovo\\chatbot\\sqlitedocuments\\mysql_document.txt \n\nsqlite connection is closed\n"
     ]
    }
   ],
   "source": [
    "def readBlobData(filename):\n",
    "    try:\n",
    "        sqliteConnection = sqlite3.connect('chatbotDB.db')\n",
    "        cursor = sqliteConnection.cursor()\n",
    "        print(\"Connected to SQLite\")\n",
    "\n",
    "        sql_fetch_blob_query = \"\"\"SELECT * from files where filename = ?\"\"\"\n",
    "        cursor.execute(sql_fetch_blob_query, (filename,))\n",
    "        record = cursor.fetchall()\n",
    "        for row in record:\n",
    "            print(\"filename = \", row[0])\n",
    "            documentFile = row[1]\n",
    "\n",
    "            print(\"Storing document on disk \\n\")\n",
    "            documentPath = \"C:\\\\Users\\\\lenovo\\\\chatbot\\\\sqlitedocuments\\\\\" + filename + \"_document.txt\"\n",
    "        \n",
    "            writeTofile(documentFile, documentPath)\n",
    "\n",
    "        cursor.close()\n",
    "\n",
    "    except sqlite3.Error as error:\n",
    "        print(\"Failed to read blob data from sqlite table\", error)\n",
    "    finally:\n",
    "        if sqliteConnection:\n",
    "            sqliteConnection.close()\n",
    "            print(\"sqlite connection is closed\")\n",
    "\n",
    "readBlobData(\"Python\")\n",
    "readBlobData(\"mysql\")"
   ]
  },
  {
   "cell_type": "code",
   "execution_count": 16,
   "metadata": {},
   "outputs": [],
   "source": [
    "def create_connection(db_file):\n",
    "    \"\"\" create a database connection to the SQLite database\n",
    "        specified by the db_file\n",
    "    :param db_file: database file\n",
    "    :return: Connection object or None\n",
    "    \"\"\"\n",
    "    conn = None\n",
    "    try:\n",
    "        conn = sqlite3.connect(db_file)\n",
    "    except Error as e:\n",
    "        print(e)\n",
    "\n",
    "    return conn"
   ]
  },
  {
   "cell_type": "code",
   "execution_count": 17,
   "metadata": {},
   "outputs": [],
   "source": [
    "select_by_topic(create_connection(\"chatbotDB.db\"))"
   ]
  },
  {
   "cell_type": "code",
   "execution_count": 18,
   "metadata": {},
   "outputs": [],
   "source": [
    "def select_by_topic(conn, topic_name):\n",
    "    \"\"\"\n",
    "    Query all rows in the tasks table\n",
    "    :param conn: the Connection object\n",
    "    :return:\n",
    "    \"\"\"\n",
    "    cur = conn.cursor()\n",
    "    cur.execute(\"SELECT * FROM files\")\n",
    "\n",
    "    rows = cur.fetchall()\n",
    "\n",
    "    for row in rows:\n",
    "        print(row)"
   ]
  },
  {
   "cell_type": "code",
   "execution_count": null,
   "metadata": {},
   "outputs": [],
   "source": []
  }
 ],
 "metadata": {
  "kernelspec": {
   "name": "python385jvsc74a57bd0948d73eb6dfda2e804d788ca8e9f193cc8a7762f6fd3fe59d9c3fe882d54f9f4",
   "display_name": "Python 3.8.5 64-bit ('base': conda)"
  },
  "language_info": {
   "codemirror_mode": {
    "name": "ipython",
    "version": 3
   },
   "file_extension": ".py",
   "mimetype": "text/x-python",
   "name": "python",
   "nbconvert_exporter": "python",
   "pygments_lexer": "ipython3",
   "version": "3.8.5"
  }
 },
 "nbformat": 4,
 "nbformat_minor": 4
}